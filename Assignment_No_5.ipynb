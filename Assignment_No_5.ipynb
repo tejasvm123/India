{
  "cells": [
    {
      "cell_type": "code",
      "execution_count": 1,
      "id": "0cfa89a6-398f-49c0-82bf-f44aceb39f17",
      "metadata": {
        "id": "0cfa89a6-398f-49c0-82bf-f44aceb39f17"
      },
      "outputs": [],
      "source": [
        "import tensorflow as tf\n",
        "from tensorflow.keras.models import Sequential\n",
        "from tensorflow.keras.layers import Dense, Embedding, Lambda\n",
        "from tensorflow.keras.preprocessing.text import Tokenizer\n",
        "import numpy as np\n",
        "import matplotlib.pyplot as plt\n",
        "from sklearn.decomposition import PCA\n",
        "import re"
      ]
    },
    {
      "cell_type": "markdown",
      "id": "7c021937-7e54-4167-8efd-841824fbafcc",
      "metadata": {
        "id": "7c021937-7e54-4167-8efd-841824fbafcc"
      },
      "source": [
        "#### a. Data preparation"
      ]
    },
    {
      "cell_type": "code",
      "execution_count": 2,
      "id": "73f3a2ac-5050-4889-b3d9-74400034ea17",
      "metadata": {
        "id": "73f3a2ac-5050-4889-b3d9-74400034ea17"
      },
      "outputs": [],
      "source": [
        "data = \"\"\"We are about to study the idea of a computational process.\n",
        "Computational processes are abstract beings that inhabit computers.\n",
        "As they evolve, processes manipulate other abstract things called data.\n",
        "The evolution of a process is directed by a pattern of rules\n",
        "called a program. People create programs to direct processes. In effect,\n",
        "we conjure the spirits of the computer with our spells.\"\"\""
      ]
    },
    {
      "cell_type": "code",
      "execution_count": null,
      "id": "d7af8f9c-3266-4f07-b7e6-b56b628dd2c0",
      "metadata": {
        "id": "d7af8f9c-3266-4f07-b7e6-b56b628dd2c0"
      },
      "outputs": [],
      "source": [
        "# for importing data from txt file\n",
        "# with open(\"data.txt\", \"r\", encoding=\"utf-8\") as file:\n",
        "#     data = file.read()"
      ]
    },
    {
      "cell_type": "code",
      "execution_count": 3,
      "id": "a5b9feb2-baec-4b6f-b697-12ce66881706",
      "metadata": {
        "id": "a5b9feb2-baec-4b6f-b697-12ce66881706"
      },
      "outputs": [],
      "source": [
        "sentences = data.split(\".\")"
      ]
    },
    {
      "cell_type": "code",
      "execution_count": 4,
      "id": "bc8bf257-d6c8-4b73-9b23-73aedeeea4ee",
      "metadata": {
        "colab": {
          "base_uri": "https://localhost:8080/"
        },
        "id": "bc8bf257-d6c8-4b73-9b23-73aedeeea4ee",
        "outputId": "0e0ea7d5-04cc-4b53-f339-edca81d1d165"
      },
      "outputs": [
        {
          "output_type": "execute_result",
          "data": {
            "text/plain": [
              "['We are about to study the idea of a computational process',\n",
              " '\\nComputational processes are abstract beings that inhabit computers',\n",
              " '\\nAs they evolve, processes manipulate other abstract things called data',\n",
              " '\\nThe evolution of a process is directed by a pattern of rules\\ncalled a program',\n",
              " ' People create programs to direct processes',\n",
              " ' In effect,\\nwe conjure the spirits of the computer with our spells',\n",
              " '']"
            ]
          },
          "metadata": {},
          "execution_count": 4
        }
      ],
      "source": [
        "sentences"
      ]
    },
    {
      "cell_type": "code",
      "execution_count": 5,
      "id": "996a58d6-8e83-443f-9038-76afad3003de",
      "metadata": {
        "id": "996a58d6-8e83-443f-9038-76afad3003de"
      },
      "outputs": [],
      "source": [
        "#Clean Data\n",
        "clean_sentences = []\n",
        "for sentence in sentences:\n",
        "    # skip empty string\n",
        "    if sentence == \"\":\n",
        "        continue;\n",
        "    # remove special characters\n",
        "    sentence = re.sub('[^A-Za-z0-9]+', ' ', sentence)\n",
        "    # remove 1 letter words\n",
        "    sentence = re.sub(r'(?:^| )\\w(?:$| )', ' ', sentence).strip()\n",
        "    # lower all characters\n",
        "    sentence = sentence.lower()\n",
        "    clean_sentences.append(sentence)"
      ]
    },
    {
      "cell_type": "code",
      "execution_count": 6,
      "id": "9286c8b6-ae81-4c6c-926e-31fe6fc3ecc6",
      "metadata": {
        "colab": {
          "base_uri": "https://localhost:8080/"
        },
        "id": "9286c8b6-ae81-4c6c-926e-31fe6fc3ecc6",
        "outputId": "e66fecea-45d4-4a62-fb3c-01f1b197088b"
      },
      "outputs": [
        {
          "output_type": "execute_result",
          "data": {
            "text/plain": [
              "['we are about to study the idea of computational process',\n",
              " 'computational processes are abstract beings that inhabit computers',\n",
              " 'as they evolve processes manipulate other abstract things called data',\n",
              " 'the evolution of process is directed by pattern of rules called program',\n",
              " 'people create programs to direct processes',\n",
              " 'in effect we conjure the spirits of the computer with our spells']"
            ]
          },
          "metadata": {},
          "execution_count": 6
        }
      ],
      "source": [
        "clean_sentences"
      ]
    },
    {
      "cell_type": "code",
      "execution_count": 7,
      "id": "8c034d4e-321d-4416-ad5e-b9d3d6fb6038",
      "metadata": {
        "id": "8c034d4e-321d-4416-ad5e-b9d3d6fb6038"
      },
      "outputs": [],
      "source": [
        "# Define the corpus\n",
        "corpus = clean_sentences"
      ]
    },
    {
      "cell_type": "code",
      "execution_count": 8,
      "id": "9218e589-294c-4892-8e4c-6a0b46d63cfc",
      "metadata": {
        "colab": {
          "base_uri": "https://localhost:8080/"
        },
        "id": "9218e589-294c-4892-8e4c-6a0b46d63cfc",
        "outputId": "5362d416-e53d-416c-fd12-d313964d408a"
      },
      "outputs": [
        {
          "output_type": "stream",
          "name": "stdout",
          "text": [
            "After converting our words in the corpus into vector of integers:\n",
            "[[4, 5, 11, 6, 12, 1, 13, 2, 7, 8], [7, 3, 5, 9, 14, 15, 16, 17], [18, 19, 20, 3, 21, 22, 9, 23, 10, 24], [1, 25, 2, 8, 26, 27, 28, 29, 2, 30, 10, 31], [32, 33, 34, 6, 35, 3], [36, 37, 4, 38, 1, 39, 2, 1, 40, 41, 42, 43]]\n"
          ]
        }
      ],
      "source": [
        "# Convert the corpus to a sequence of integers\n",
        "tokenizer = Tokenizer()\n",
        "tokenizer.fit_on_texts(corpus)\n",
        "sequences = tokenizer.texts_to_sequences(corpus)\n",
        "print(\"After converting our words in the corpus \\\n",
        "into vector of integers:\")\n",
        "print(sequences)"
      ]
    },
    {
      "cell_type": "code",
      "execution_count": 9,
      "id": "be572280-b97d-4175-9da2-035b134b311e",
      "metadata": {
        "colab": {
          "base_uri": "https://localhost:8080/"
        },
        "id": "be572280-b97d-4175-9da2-035b134b311e",
        "outputId": "8d0d6e2c-ec64-4acc-de1c-49b3e7f79126"
      },
      "outputs": [
        {
          "output_type": "stream",
          "name": "stdout",
          "text": [
            "[4, 5, 11, 6, 12, 1, 13, 2, 7, 8]\n",
            "['we', 'are', 'about', 'to', 'study', 'the', 'idea', 'of', 'computational', 'process']\n",
            "[7, 3, 5, 9, 14, 15, 16, 17]\n",
            "['computational', 'processes', 'are', 'abstract', 'beings', 'that', 'inhabit', 'computers']\n",
            "[18, 19, 20, 3, 21, 22, 9, 23, 10, 24]\n",
            "['as', 'they', 'evolve', 'processes', 'manipulate', 'other', 'abstract', 'things', 'called', 'data']\n",
            "[1, 25, 2, 8, 26, 27, 28, 29, 2, 30, 10, 31]\n",
            "['the', 'evolution', 'of', 'process', 'is', 'directed', 'by', 'pattern', 'of', 'rules', 'called', 'program']\n",
            "[32, 33, 34, 6, 35, 3]\n",
            "['people', 'create', 'programs', 'to', 'direct', 'processes']\n",
            "[36, 37, 4, 38, 1, 39, 2, 1, 40, 41, 42, 43]\n",
            "['in', 'effect', 'we', 'conjure', 'the', 'spirits', 'of', 'the', 'computer', 'with', 'our', 'spells']\n"
          ]
        }
      ],
      "source": [
        "# creating dictionary for word to index and index to word\n",
        "index_to_word_map = {}\n",
        "word_to_index_map = {}\n",
        "for index_1, sequence in enumerate(sequences):\n",
        "    print(sequence)\n",
        "    words_in_sentence = clean_sentences[index_1].split()\n",
        "    print(words_in_sentence)\n",
        "    for index_2, value in enumerate(sequence):\n",
        "        index_to_word_map[value] = words_in_sentence[index_2]\n",
        "        word_to_index_map[words_in_sentence[index_2]] = value"
      ]
    },
    {
      "cell_type": "code",
      "execution_count": 10,
      "id": "7cfbee67-7458-4486-b589-284c7d453538",
      "metadata": {
        "colab": {
          "base_uri": "https://localhost:8080/"
        },
        "id": "7cfbee67-7458-4486-b589-284c7d453538",
        "outputId": "58ec50af-c19c-4b72-a9e5-fe7d21b7f205"
      },
      "outputs": [
        {
          "output_type": "stream",
          "name": "stdout",
          "text": [
            "{4: 'we', 5: 'are', 11: 'about', 6: 'to', 12: 'study', 1: 'the', 13: 'idea', 2: 'of', 7: 'computational', 8: 'process', 3: 'processes', 9: 'abstract', 14: 'beings', 15: 'that', 16: 'inhabit', 17: 'computers', 18: 'as', 19: 'they', 20: 'evolve', 21: 'manipulate', 22: 'other', 23: 'things', 10: 'called', 24: 'data', 25: 'evolution', 26: 'is', 27: 'directed', 28: 'by', 29: 'pattern', 30: 'rules', 31: 'program', 32: 'people', 33: 'create', 34: 'programs', 35: 'direct', 36: 'in', 37: 'effect', 38: 'conjure', 39: 'spirits', 40: 'computer', 41: 'with', 42: 'our', 43: 'spells'}\n",
            "\n",
            "\n",
            "{'we': 4, 'are': 5, 'about': 11, 'to': 6, 'study': 12, 'the': 1, 'idea': 13, 'of': 2, 'computational': 7, 'process': 8, 'processes': 3, 'abstract': 9, 'beings': 14, 'that': 15, 'inhabit': 16, 'computers': 17, 'as': 18, 'they': 19, 'evolve': 20, 'manipulate': 21, 'other': 22, 'things': 23, 'called': 10, 'data': 24, 'evolution': 25, 'is': 26, 'directed': 27, 'by': 28, 'pattern': 29, 'rules': 30, 'program': 31, 'people': 32, 'create': 33, 'programs': 34, 'direct': 35, 'in': 36, 'effect': 37, 'conjure': 38, 'spirits': 39, 'computer': 40, 'with': 41, 'our': 42, 'spells': 43}\n"
          ]
        }
      ],
      "source": [
        "print(index_to_word_map)\n",
        "print(\"\\n\")\n",
        "print(word_to_index_map)"
      ]
    },
    {
      "cell_type": "markdown",
      "id": "0a247e23-8497-43a9-b415-971bd592090a",
      "metadata": {
        "id": "0a247e23-8497-43a9-b415-971bd592090a"
      },
      "source": [
        "#### b. Generate training data"
      ]
    },
    {
      "cell_type": "code",
      "execution_count": 11,
      "id": "8c83dfb9-4a0d-4bdc-acec-4528ed388fad",
      "metadata": {
        "id": "8c83dfb9-4a0d-4bdc-acec-4528ed388fad"
      },
      "outputs": [],
      "source": [
        "# Define the parameters\n",
        "vocab_size = len(tokenizer.word_index) + 1\n",
        "embedding_size = 10\n",
        "window_size = 2\n",
        "\n",
        "# Generate the context-target pairs\n",
        "contexts = []\n",
        "targets = []\n",
        "for sequence in sequences:\n",
        "\tfor i in range(window_size, len(sequence) - window_size):\n",
        "\t\tcontext = sequence[i - window_size:i] + sequence[i + 1:i + window_size + 1]\n",
        "\t\ttarget = sequence[i]\n",
        "\t\tcontexts.append(context)\n",
        "\t\ttargets.append(target)"
      ]
    },
    {
      "cell_type": "code",
      "execution_count": 12,
      "id": "12175cc9-f261-4867-be56-fb0f5e652c64",
      "metadata": {
        "colab": {
          "base_uri": "https://localhost:8080/"
        },
        "id": "12175cc9-f261-4867-be56-fb0f5e652c64",
        "outputId": "7c8168f0-02c1-4b96-f2f2-4bfa4445dbe3"
      },
      "outputs": [
        {
          "output_type": "stream",
          "name": "stdout",
          "text": [
            "['we', 'are', 'to', 'study'] => about\n",
            "['are', 'about', 'study', 'the'] => to\n",
            "['about', 'to', 'the', 'idea'] => study\n",
            "['to', 'study', 'idea', 'of'] => the\n",
            "['study', 'the', 'of', 'computational'] => idea\n"
          ]
        }
      ],
      "source": [
        "# sample of training data\n",
        "for i in range(5):\n",
        "    words = []\n",
        "    target = index_to_word_map.get(targets[i])\n",
        "    for j in contexts[i]:\n",
        "        words.append(index_to_word_map.get(j))\n",
        "    print(words, \"=>\", target)"
      ]
    },
    {
      "cell_type": "code",
      "execution_count": 13,
      "id": "c0ec03a5-0b78-4b6e-8472-d777e3c12cac",
      "metadata": {
        "id": "c0ec03a5-0b78-4b6e-8472-d777e3c12cac"
      },
      "outputs": [],
      "source": [
        "# Convert the contexts and targets to numpy arrays\n",
        "X = np.array(contexts)\n",
        "Y = np.array(targets)"
      ]
    },
    {
      "cell_type": "markdown",
      "id": "f8590a96-3fd5-4460-b7bf-ead26c93f187",
      "metadata": {
        "id": "f8590a96-3fd5-4460-b7bf-ead26c93f187"
      },
      "source": [
        "#### c. Train model"
      ]
    },
    {
      "cell_type": "code",
      "execution_count": 14,
      "id": "263e9e11-7802-43c3-93d0-c7d78a9e99d5",
      "metadata": {
        "colab": {
          "base_uri": "https://localhost:8080/"
        },
        "id": "263e9e11-7802-43c3-93d0-c7d78a9e99d5",
        "outputId": "d2b0631c-5494-4236-c83d-cf379f6f639b"
      },
      "outputs": [
        {
          "output_type": "stream",
          "name": "stdout",
          "text": [
            "Epoch 1/200\n",
            "2/2 [==============================] - 1s 28ms/step - loss: 3.7837 - accuracy: 0.0294\n",
            "Epoch 2/200\n",
            "2/2 [==============================] - 0s 18ms/step - loss: 3.7755 - accuracy: 0.2059\n",
            "Epoch 3/200\n",
            "2/2 [==============================] - 0s 15ms/step - loss: 3.7694 - accuracy: 0.1471\n",
            "Epoch 4/200\n",
            "2/2 [==============================] - 0s 17ms/step - loss: 3.7626 - accuracy: 0.1471\n",
            "Epoch 5/200\n",
            "2/2 [==============================] - 0s 12ms/step - loss: 3.7543 - accuracy: 0.1471\n",
            "Epoch 6/200\n",
            "2/2 [==============================] - 0s 18ms/step - loss: 3.7456 - accuracy: 0.1471\n",
            "Epoch 7/200\n",
            "2/2 [==============================] - 0s 17ms/step - loss: 3.7348 - accuracy: 0.1471\n",
            "Epoch 8/200\n",
            "2/2 [==============================] - 0s 16ms/step - loss: 3.7216 - accuracy: 0.1765\n",
            "Epoch 9/200\n",
            "2/2 [==============================] - 0s 12ms/step - loss: 3.7066 - accuracy: 0.1765\n",
            "Epoch 10/200\n",
            "2/2 [==============================] - 0s 19ms/step - loss: 3.6882 - accuracy: 0.2059\n",
            "Epoch 11/200\n",
            "2/2 [==============================] - 0s 13ms/step - loss: 3.6669 - accuracy: 0.1765\n",
            "Epoch 12/200\n",
            "2/2 [==============================] - 0s 13ms/step - loss: 3.6425 - accuracy: 0.1765\n",
            "Epoch 13/200\n",
            "2/2 [==============================] - 0s 17ms/step - loss: 3.6133 - accuracy: 0.1765\n",
            "Epoch 14/200\n",
            "2/2 [==============================] - 0s 18ms/step - loss: 3.5805 - accuracy: 0.1765\n",
            "Epoch 15/200\n",
            "2/2 [==============================] - 0s 16ms/step - loss: 3.5420 - accuracy: 0.1765\n",
            "Epoch 16/200\n",
            "2/2 [==============================] - 0s 18ms/step - loss: 3.5025 - accuracy: 0.1765\n",
            "Epoch 17/200\n",
            "2/2 [==============================] - 0s 17ms/step - loss: 3.4590 - accuracy: 0.1765\n",
            "Epoch 18/200\n",
            "2/2 [==============================] - 0s 16ms/step - loss: 3.4110 - accuracy: 0.1765\n",
            "Epoch 19/200\n",
            "2/2 [==============================] - 0s 16ms/step - loss: 3.3576 - accuracy: 0.1471\n",
            "Epoch 20/200\n",
            "2/2 [==============================] - 0s 14ms/step - loss: 3.3000 - accuracy: 0.1176\n",
            "Epoch 21/200\n",
            "2/2 [==============================] - 0s 13ms/step - loss: 3.2519 - accuracy: 0.1471\n",
            "Epoch 22/200\n",
            "2/2 [==============================] - 0s 17ms/step - loss: 3.2107 - accuracy: 0.1765\n",
            "Epoch 23/200\n",
            "2/2 [==============================] - 0s 18ms/step - loss: 3.1777 - accuracy: 0.2059\n",
            "Epoch 24/200\n",
            "2/2 [==============================] - 0s 13ms/step - loss: 3.1556 - accuracy: 0.2059\n",
            "Epoch 25/200\n",
            "2/2 [==============================] - 0s 12ms/step - loss: 3.1343 - accuracy: 0.1765\n",
            "Epoch 26/200\n",
            "2/2 [==============================] - 0s 12ms/step - loss: 3.1137 - accuracy: 0.1765\n",
            "Epoch 27/200\n",
            "2/2 [==============================] - 0s 15ms/step - loss: 3.0970 - accuracy: 0.2059\n",
            "Epoch 28/200\n",
            "2/2 [==============================] - 0s 14ms/step - loss: 3.0797 - accuracy: 0.2059\n",
            "Epoch 29/200\n",
            "2/2 [==============================] - 0s 13ms/step - loss: 3.0551 - accuracy: 0.1471\n",
            "Epoch 30/200\n",
            "2/2 [==============================] - 0s 17ms/step - loss: 3.0289 - accuracy: 0.1176\n",
            "Epoch 31/200\n",
            "2/2 [==============================] - 0s 13ms/step - loss: 3.0015 - accuracy: 0.1176\n",
            "Epoch 32/200\n",
            "2/2 [==============================] - 0s 14ms/step - loss: 2.9747 - accuracy: 0.1176\n",
            "Epoch 33/200\n",
            "2/2 [==============================] - 0s 13ms/step - loss: 2.9477 - accuracy: 0.1176\n",
            "Epoch 34/200\n",
            "2/2 [==============================] - 0s 13ms/step - loss: 2.9198 - accuracy: 0.1176\n",
            "Epoch 35/200\n",
            "2/2 [==============================] - 0s 13ms/step - loss: 2.8924 - accuracy: 0.1176\n",
            "Epoch 36/200\n",
            "2/2 [==============================] - 0s 12ms/step - loss: 2.8611 - accuracy: 0.1176\n",
            "Epoch 37/200\n",
            "2/2 [==============================] - 0s 12ms/step - loss: 2.8359 - accuracy: 0.1176\n",
            "Epoch 38/200\n",
            "2/2 [==============================] - 0s 13ms/step - loss: 2.8036 - accuracy: 0.1471\n",
            "Epoch 39/200\n",
            "2/2 [==============================] - 0s 13ms/step - loss: 2.7705 - accuracy: 0.1471\n",
            "Epoch 40/200\n",
            "2/2 [==============================] - 0s 13ms/step - loss: 2.7368 - accuracy: 0.1765\n",
            "Epoch 41/200\n",
            "2/2 [==============================] - 0s 13ms/step - loss: 2.7036 - accuracy: 0.2353\n",
            "Epoch 42/200\n",
            "2/2 [==============================] - 0s 17ms/step - loss: 2.6681 - accuracy: 0.2647\n",
            "Epoch 43/200\n",
            "2/2 [==============================] - 0s 12ms/step - loss: 2.6316 - accuracy: 0.2647\n",
            "Epoch 44/200\n",
            "2/2 [==============================] - 0s 12ms/step - loss: 2.5962 - accuracy: 0.2647\n",
            "Epoch 45/200\n",
            "2/2 [==============================] - 0s 14ms/step - loss: 2.5632 - accuracy: 0.2941\n",
            "Epoch 46/200\n",
            "2/2 [==============================] - 0s 18ms/step - loss: 2.5274 - accuracy: 0.2941\n",
            "Epoch 47/200\n",
            "2/2 [==============================] - 0s 25ms/step - loss: 2.4946 - accuracy: 0.2941\n",
            "Epoch 48/200\n",
            "2/2 [==============================] - 0s 15ms/step - loss: 2.4613 - accuracy: 0.2941\n",
            "Epoch 49/200\n",
            "2/2 [==============================] - 0s 22ms/step - loss: 2.4314 - accuracy: 0.2941\n",
            "Epoch 50/200\n",
            "2/2 [==============================] - 0s 17ms/step - loss: 2.3993 - accuracy: 0.2941\n",
            "Epoch 51/200\n",
            "2/2 [==============================] - 0s 15ms/step - loss: 2.3746 - accuracy: 0.2941\n",
            "Epoch 52/200\n",
            "2/2 [==============================] - 0s 15ms/step - loss: 2.3481 - accuracy: 0.2941\n",
            "Epoch 53/200\n",
            "2/2 [==============================] - 0s 17ms/step - loss: 2.3251 - accuracy: 0.3235\n",
            "Epoch 54/200\n",
            "2/2 [==============================] - 0s 14ms/step - loss: 2.3010 - accuracy: 0.3235\n",
            "Epoch 55/200\n",
            "2/2 [==============================] - 0s 15ms/step - loss: 2.2588 - accuracy: 0.3235\n",
            "Epoch 56/200\n",
            "2/2 [==============================] - 0s 14ms/step - loss: 2.2116 - accuracy: 0.3235\n",
            "Epoch 57/200\n",
            "2/2 [==============================] - 0s 20ms/step - loss: 2.1709 - accuracy: 0.3235\n",
            "Epoch 58/200\n",
            "2/2 [==============================] - 0s 18ms/step - loss: 2.1328 - accuracy: 0.3529\n",
            "Epoch 59/200\n",
            "2/2 [==============================] - 0s 18ms/step - loss: 2.1016 - accuracy: 0.3529\n",
            "Epoch 60/200\n",
            "2/2 [==============================] - 0s 15ms/step - loss: 2.0716 - accuracy: 0.3824\n",
            "Epoch 61/200\n",
            "2/2 [==============================] - 0s 18ms/step - loss: 2.0372 - accuracy: 0.3824\n",
            "Epoch 62/200\n",
            "2/2 [==============================] - 0s 19ms/step - loss: 2.0034 - accuracy: 0.4118\n",
            "Epoch 63/200\n",
            "2/2 [==============================] - 0s 12ms/step - loss: 1.9626 - accuracy: 0.4118\n",
            "Epoch 64/200\n",
            "2/2 [==============================] - 0s 14ms/step - loss: 1.9229 - accuracy: 0.4118\n",
            "Epoch 65/200\n",
            "2/2 [==============================] - 0s 13ms/step - loss: 1.8883 - accuracy: 0.4118\n",
            "Epoch 66/200\n",
            "2/2 [==============================] - 0s 13ms/step - loss: 1.8627 - accuracy: 0.3824\n",
            "Epoch 67/200\n",
            "2/2 [==============================] - 0s 14ms/step - loss: 1.8356 - accuracy: 0.4118\n",
            "Epoch 68/200\n",
            "2/2 [==============================] - 0s 15ms/step - loss: 1.8017 - accuracy: 0.4412\n",
            "Epoch 69/200\n",
            "2/2 [==============================] - 0s 14ms/step - loss: 1.7621 - accuracy: 0.4412\n",
            "Epoch 70/200\n",
            "2/2 [==============================] - 0s 19ms/step - loss: 1.7185 - accuracy: 0.4412\n",
            "Epoch 71/200\n",
            "2/2 [==============================] - 0s 18ms/step - loss: 1.6801 - accuracy: 0.5000\n",
            "Epoch 72/200\n",
            "2/2 [==============================] - 0s 12ms/step - loss: 1.6511 - accuracy: 0.5882\n",
            "Epoch 73/200\n",
            "2/2 [==============================] - 0s 12ms/step - loss: 1.6134 - accuracy: 0.5882\n",
            "Epoch 74/200\n",
            "2/2 [==============================] - 0s 12ms/step - loss: 1.5774 - accuracy: 0.6471\n",
            "Epoch 75/200\n",
            "2/2 [==============================] - 0s 12ms/step - loss: 1.5452 - accuracy: 0.5588\n",
            "Epoch 76/200\n",
            "2/2 [==============================] - 0s 14ms/step - loss: 1.5105 - accuracy: 0.5588\n",
            "Epoch 77/200\n",
            "2/2 [==============================] - 0s 12ms/step - loss: 1.4849 - accuracy: 0.5588\n",
            "Epoch 78/200\n",
            "2/2 [==============================] - 0s 11ms/step - loss: 1.4525 - accuracy: 0.5882\n",
            "Epoch 79/200\n",
            "2/2 [==============================] - 0s 12ms/step - loss: 1.4232 - accuracy: 0.5882\n",
            "Epoch 80/200\n",
            "2/2 [==============================] - 0s 12ms/step - loss: 1.3914 - accuracy: 0.5882\n",
            "Epoch 81/200\n",
            "2/2 [==============================] - 0s 16ms/step - loss: 1.3575 - accuracy: 0.6176\n",
            "Epoch 82/200\n",
            "2/2 [==============================] - 0s 14ms/step - loss: 1.3242 - accuracy: 0.6765\n",
            "Epoch 83/200\n",
            "2/2 [==============================] - 0s 20ms/step - loss: 1.2923 - accuracy: 0.7353\n",
            "Epoch 84/200\n",
            "2/2 [==============================] - 0s 13ms/step - loss: 1.2610 - accuracy: 0.7059\n",
            "Epoch 85/200\n",
            "2/2 [==============================] - 0s 12ms/step - loss: 1.2369 - accuracy: 0.7059\n",
            "Epoch 86/200\n",
            "2/2 [==============================] - 0s 12ms/step - loss: 1.2124 - accuracy: 0.7353\n",
            "Epoch 87/200\n",
            "2/2 [==============================] - 0s 12ms/step - loss: 1.1820 - accuracy: 0.7353\n",
            "Epoch 88/200\n",
            "2/2 [==============================] - 0s 12ms/step - loss: 1.1565 - accuracy: 0.7059\n",
            "Epoch 89/200\n",
            "2/2 [==============================] - 0s 13ms/step - loss: 1.1328 - accuracy: 0.6765\n",
            "Epoch 90/200\n",
            "2/2 [==============================] - 0s 15ms/step - loss: 1.1109 - accuracy: 0.6765\n",
            "Epoch 91/200\n",
            "2/2 [==============================] - 0s 12ms/step - loss: 1.0817 - accuracy: 0.7059\n",
            "Epoch 92/200\n",
            "2/2 [==============================] - 0s 11ms/step - loss: 1.0441 - accuracy: 0.7353\n",
            "Epoch 93/200\n",
            "2/2 [==============================] - 0s 15ms/step - loss: 1.0080 - accuracy: 0.7353\n",
            "Epoch 94/200\n",
            "2/2 [==============================] - 0s 11ms/step - loss: 0.9762 - accuracy: 0.7353\n",
            "Epoch 95/200\n",
            "2/2 [==============================] - 0s 14ms/step - loss: 0.9514 - accuracy: 0.7647\n",
            "Epoch 96/200\n",
            "2/2 [==============================] - 0s 12ms/step - loss: 0.9286 - accuracy: 0.8235\n",
            "Epoch 97/200\n",
            "2/2 [==============================] - 0s 10ms/step - loss: 0.9015 - accuracy: 0.8235\n",
            "Epoch 98/200\n",
            "2/2 [==============================] - 0s 19ms/step - loss: 0.8868 - accuracy: 0.8824\n",
            "Epoch 99/200\n",
            "2/2 [==============================] - 0s 11ms/step - loss: 0.8706 - accuracy: 0.8824\n",
            "Epoch 100/200\n",
            "2/2 [==============================] - 0s 11ms/step - loss: 0.8535 - accuracy: 0.8824\n",
            "Epoch 101/200\n",
            "2/2 [==============================] - 0s 11ms/step - loss: 0.8355 - accuracy: 0.8235\n",
            "Epoch 102/200\n",
            "2/2 [==============================] - 0s 12ms/step - loss: 0.8279 - accuracy: 0.8235\n",
            "Epoch 103/200\n",
            "2/2 [==============================] - 0s 12ms/step - loss: 0.8233 - accuracy: 0.7647\n",
            "Epoch 104/200\n",
            "2/2 [==============================] - 0s 11ms/step - loss: 0.8218 - accuracy: 0.7647\n",
            "Epoch 105/200\n",
            "2/2 [==============================] - 0s 10ms/step - loss: 0.8225 - accuracy: 0.7647\n",
            "Epoch 106/200\n",
            "2/2 [==============================] - 0s 13ms/step - loss: 0.8083 - accuracy: 0.7647\n",
            "Epoch 107/200\n",
            "2/2 [==============================] - 0s 14ms/step - loss: 0.7742 - accuracy: 0.7647\n",
            "Epoch 108/200\n",
            "2/2 [==============================] - 0s 12ms/step - loss: 0.7358 - accuracy: 0.7941\n",
            "Epoch 109/200\n",
            "2/2 [==============================] - 0s 12ms/step - loss: 0.7034 - accuracy: 0.8529\n",
            "Epoch 110/200\n",
            "2/2 [==============================] - 0s 11ms/step - loss: 0.6832 - accuracy: 0.8529\n",
            "Epoch 111/200\n",
            "2/2 [==============================] - 0s 14ms/step - loss: 0.6675 - accuracy: 0.8529\n",
            "Epoch 112/200\n",
            "2/2 [==============================] - 0s 12ms/step - loss: 0.6540 - accuracy: 0.8824\n",
            "Epoch 113/200\n",
            "2/2 [==============================] - 0s 10ms/step - loss: 0.6422 - accuracy: 0.8824\n",
            "Epoch 114/200\n",
            "2/2 [==============================] - 0s 12ms/step - loss: 0.6328 - accuracy: 0.8529\n",
            "Epoch 115/200\n",
            "2/2 [==============================] - 0s 13ms/step - loss: 0.6184 - accuracy: 0.8824\n",
            "Epoch 116/200\n",
            "2/2 [==============================] - 0s 14ms/step - loss: 0.5946 - accuracy: 0.9118\n",
            "Epoch 117/200\n",
            "2/2 [==============================] - 0s 13ms/step - loss: 0.5629 - accuracy: 0.9412\n",
            "Epoch 118/200\n",
            "2/2 [==============================] - 0s 13ms/step - loss: 0.5439 - accuracy: 0.9412\n",
            "Epoch 119/200\n",
            "2/2 [==============================] - 0s 11ms/step - loss: 0.5301 - accuracy: 0.9412\n",
            "Epoch 120/200\n",
            "2/2 [==============================] - 0s 11ms/step - loss: 0.5225 - accuracy: 0.9118\n",
            "Epoch 121/200\n",
            "2/2 [==============================] - 0s 11ms/step - loss: 0.5132 - accuracy: 0.8824\n",
            "Epoch 122/200\n",
            "2/2 [==============================] - 0s 11ms/step - loss: 0.5053 - accuracy: 0.8824\n",
            "Epoch 123/200\n",
            "2/2 [==============================] - 0s 11ms/step - loss: 0.4970 - accuracy: 0.8824\n",
            "Epoch 124/200\n",
            "2/2 [==============================] - 0s 11ms/step - loss: 0.4881 - accuracy: 0.9118\n",
            "Epoch 125/200\n",
            "2/2 [==============================] - 0s 15ms/step - loss: 0.4761 - accuracy: 0.8824\n",
            "Epoch 126/200\n",
            "2/2 [==============================] - 0s 15ms/step - loss: 0.4649 - accuracy: 0.8824\n",
            "Epoch 127/200\n",
            "2/2 [==============================] - 0s 15ms/step - loss: 0.4447 - accuracy: 0.9118\n",
            "Epoch 128/200\n",
            "2/2 [==============================] - 0s 12ms/step - loss: 0.4326 - accuracy: 0.9118\n",
            "Epoch 129/200\n",
            "2/2 [==============================] - 0s 13ms/step - loss: 0.4270 - accuracy: 0.9118\n",
            "Epoch 130/200\n",
            "2/2 [==============================] - 0s 14ms/step - loss: 0.4088 - accuracy: 0.9118\n",
            "Epoch 131/200\n",
            "2/2 [==============================] - 0s 14ms/step - loss: 0.3854 - accuracy: 0.9412\n",
            "Epoch 132/200\n",
            "2/2 [==============================] - 0s 15ms/step - loss: 0.3699 - accuracy: 0.9412\n",
            "Epoch 133/200\n",
            "2/2 [==============================] - 0s 12ms/step - loss: 0.3602 - accuracy: 0.9412\n",
            "Epoch 134/200\n",
            "2/2 [==============================] - 0s 10ms/step - loss: 0.3572 - accuracy: 0.9412\n",
            "Epoch 135/200\n",
            "2/2 [==============================] - 0s 13ms/step - loss: 0.3556 - accuracy: 0.9706\n",
            "Epoch 136/200\n",
            "2/2 [==============================] - 0s 13ms/step - loss: 0.3563 - accuracy: 0.9412\n",
            "Epoch 137/200\n",
            "2/2 [==============================] - 0s 14ms/step - loss: 0.3620 - accuracy: 0.9412\n",
            "Epoch 138/200\n",
            "2/2 [==============================] - 0s 11ms/step - loss: 0.3534 - accuracy: 0.9118\n",
            "Epoch 139/200\n",
            "2/2 [==============================] - 0s 18ms/step - loss: 0.3392 - accuracy: 0.9706\n",
            "Epoch 140/200\n",
            "2/2 [==============================] - 0s 12ms/step - loss: 0.3194 - accuracy: 0.9706\n",
            "Epoch 141/200\n",
            "2/2 [==============================] - 0s 14ms/step - loss: 0.3067 - accuracy: 0.9706\n",
            "Epoch 142/200\n",
            "2/2 [==============================] - 0s 12ms/step - loss: 0.2979 - accuracy: 0.9412\n",
            "Epoch 143/200\n",
            "2/2 [==============================] - 0s 15ms/step - loss: 0.2901 - accuracy: 0.9412\n",
            "Epoch 144/200\n",
            "2/2 [==============================] - 0s 12ms/step - loss: 0.2788 - accuracy: 0.9412\n",
            "Epoch 145/200\n",
            "2/2 [==============================] - 0s 16ms/step - loss: 0.2575 - accuracy: 0.9706\n",
            "Epoch 146/200\n",
            "2/2 [==============================] - 0s 13ms/step - loss: 0.2423 - accuracy: 0.9706\n",
            "Epoch 147/200\n",
            "2/2 [==============================] - 0s 15ms/step - loss: 0.2382 - accuracy: 0.9706\n",
            "Epoch 148/200\n",
            "2/2 [==============================] - 0s 12ms/step - loss: 0.2361 - accuracy: 0.9706\n",
            "Epoch 149/200\n",
            "2/2 [==============================] - 0s 12ms/step - loss: 0.2351 - accuracy: 0.9412\n",
            "Epoch 150/200\n",
            "2/2 [==============================] - 0s 15ms/step - loss: 0.2348 - accuracy: 0.9706\n",
            "Epoch 151/200\n",
            "2/2 [==============================] - 0s 13ms/step - loss: 0.2329 - accuracy: 0.9706\n",
            "Epoch 152/200\n",
            "2/2 [==============================] - 0s 11ms/step - loss: 0.2299 - accuracy: 0.9706\n",
            "Epoch 153/200\n",
            "2/2 [==============================] - 0s 11ms/step - loss: 0.2237 - accuracy: 0.9706\n",
            "Epoch 154/200\n",
            "2/2 [==============================] - 0s 13ms/step - loss: 0.2154 - accuracy: 0.9706\n",
            "Epoch 155/200\n",
            "2/2 [==============================] - 0s 15ms/step - loss: 0.2097 - accuracy: 0.9706\n",
            "Epoch 156/200\n",
            "2/2 [==============================] - 0s 16ms/step - loss: 0.2042 - accuracy: 0.9706\n",
            "Epoch 157/200\n",
            "2/2 [==============================] - 0s 13ms/step - loss: 0.1982 - accuracy: 0.9706\n",
            "Epoch 158/200\n",
            "2/2 [==============================] - 0s 14ms/step - loss: 0.1926 - accuracy: 0.9706\n",
            "Epoch 159/200\n",
            "2/2 [==============================] - 0s 11ms/step - loss: 0.1855 - accuracy: 0.9706\n",
            "Epoch 160/200\n",
            "2/2 [==============================] - 0s 12ms/step - loss: 0.1777 - accuracy: 0.9706\n",
            "Epoch 161/200\n",
            "2/2 [==============================] - 0s 14ms/step - loss: 0.1705 - accuracy: 0.9706\n",
            "Epoch 162/200\n",
            "2/2 [==============================] - 0s 11ms/step - loss: 0.1634 - accuracy: 0.9706\n",
            "Epoch 163/200\n",
            "2/2 [==============================] - 0s 12ms/step - loss: 0.1557 - accuracy: 0.9706\n",
            "Epoch 164/200\n",
            "2/2 [==============================] - 0s 13ms/step - loss: 0.1510 - accuracy: 0.9706\n",
            "Epoch 165/200\n",
            "2/2 [==============================] - 0s 11ms/step - loss: 0.1471 - accuracy: 0.9706\n",
            "Epoch 166/200\n",
            "2/2 [==============================] - 0s 14ms/step - loss: 0.1422 - accuracy: 0.9706\n",
            "Epoch 167/200\n",
            "2/2 [==============================] - 0s 13ms/step - loss: 0.1363 - accuracy: 0.9706\n",
            "Epoch 168/200\n",
            "2/2 [==============================] - 0s 12ms/step - loss: 0.1312 - accuracy: 0.9706\n",
            "Epoch 169/200\n",
            "2/2 [==============================] - 0s 13ms/step - loss: 0.1258 - accuracy: 1.0000\n",
            "Epoch 170/200\n",
            "2/2 [==============================] - 0s 12ms/step - loss: 0.1231 - accuracy: 1.0000\n",
            "Epoch 171/200\n",
            "2/2 [==============================] - 0s 18ms/step - loss: 0.1218 - accuracy: 1.0000\n",
            "Epoch 172/200\n",
            "2/2 [==============================] - 0s 11ms/step - loss: 0.1217 - accuracy: 1.0000\n",
            "Epoch 173/200\n",
            "2/2 [==============================] - 0s 14ms/step - loss: 0.1208 - accuracy: 1.0000\n",
            "Epoch 174/200\n",
            "2/2 [==============================] - 0s 11ms/step - loss: 0.1172 - accuracy: 1.0000\n",
            "Epoch 175/200\n",
            "2/2 [==============================] - 0s 12ms/step - loss: 0.1146 - accuracy: 1.0000\n",
            "Epoch 176/200\n",
            "2/2 [==============================] - 0s 12ms/step - loss: 0.1119 - accuracy: 1.0000\n",
            "Epoch 177/200\n",
            "2/2 [==============================] - 0s 16ms/step - loss: 0.1104 - accuracy: 1.0000\n",
            "Epoch 178/200\n",
            "2/2 [==============================] - 0s 15ms/step - loss: 0.1094 - accuracy: 1.0000\n",
            "Epoch 179/200\n",
            "2/2 [==============================] - 0s 15ms/step - loss: 0.1070 - accuracy: 1.0000\n",
            "Epoch 180/200\n",
            "2/2 [==============================] - 0s 12ms/step - loss: 0.1033 - accuracy: 1.0000\n",
            "Epoch 181/200\n",
            "2/2 [==============================] - 0s 13ms/step - loss: 0.0972 - accuracy: 1.0000\n",
            "Epoch 182/200\n",
            "2/2 [==============================] - 0s 15ms/step - loss: 0.0934 - accuracy: 1.0000\n",
            "Epoch 183/200\n",
            "2/2 [==============================] - 0s 14ms/step - loss: 0.0932 - accuracy: 1.0000\n",
            "Epoch 184/200\n",
            "2/2 [==============================] - 0s 12ms/step - loss: 0.0940 - accuracy: 1.0000\n",
            "Epoch 185/200\n",
            "2/2 [==============================] - 0s 15ms/step - loss: 0.0939 - accuracy: 1.0000\n",
            "Epoch 186/200\n",
            "2/2 [==============================] - 0s 17ms/step - loss: 0.0931 - accuracy: 1.0000\n",
            "Epoch 187/200\n",
            "2/2 [==============================] - 0s 12ms/step - loss: 0.0927 - accuracy: 1.0000\n",
            "Epoch 188/200\n",
            "2/2 [==============================] - 0s 12ms/step - loss: 0.0910 - accuracy: 1.0000\n",
            "Epoch 189/200\n",
            "2/2 [==============================] - 0s 11ms/step - loss: 0.0883 - accuracy: 1.0000\n",
            "Epoch 190/200\n",
            "2/2 [==============================] - 0s 12ms/step - loss: 0.0848 - accuracy: 1.0000\n",
            "Epoch 191/200\n",
            "2/2 [==============================] - 0s 11ms/step - loss: 0.0823 - accuracy: 1.0000\n",
            "Epoch 192/200\n",
            "2/2 [==============================] - 0s 12ms/step - loss: 0.0799 - accuracy: 1.0000\n",
            "Epoch 193/200\n",
            "2/2 [==============================] - 0s 15ms/step - loss: 0.0776 - accuracy: 1.0000\n",
            "Epoch 194/200\n",
            "2/2 [==============================] - 0s 14ms/step - loss: 0.0752 - accuracy: 1.0000\n",
            "Epoch 195/200\n",
            "2/2 [==============================] - 0s 12ms/step - loss: 0.0728 - accuracy: 1.0000\n",
            "Epoch 196/200\n",
            "2/2 [==============================] - 0s 14ms/step - loss: 0.0704 - accuracy: 1.0000\n",
            "Epoch 197/200\n",
            "2/2 [==============================] - 0s 13ms/step - loss: 0.0680 - accuracy: 1.0000\n",
            "Epoch 198/200\n",
            "2/2 [==============================] - 0s 12ms/step - loss: 0.0659 - accuracy: 1.0000\n",
            "Epoch 199/200\n",
            "2/2 [==============================] - 0s 11ms/step - loss: 0.0642 - accuracy: 1.0000\n",
            "Epoch 200/200\n",
            "2/2 [==============================] - 0s 11ms/step - loss: 0.0628 - accuracy: 1.0000\n"
          ]
        },
        {
          "output_type": "execute_result",
          "data": {
            "text/plain": [
              "<keras.src.callbacks.History at 0x7af1646c4a00>"
            ]
          },
          "metadata": {},
          "execution_count": 14
        }
      ],
      "source": [
        "# Define the CBOW model\n",
        "model = Sequential()\n",
        "model.add(Embedding(input_dim=vocab_size, output_dim=embedding_size, input_length=2 * window_size))\n",
        "model.add(Lambda(lambda x: tf.reduce_mean(x, axis=1)))\n",
        "model.add(Dense(256, activation='relu'))\n",
        "model.add(Dense(512, activation='relu'))\n",
        "model.add(Dense(units=vocab_size, activation='softmax'))\n",
        "\n",
        "# Compile the model\n",
        "model.compile(loss='sparse_categorical_crossentropy', optimizer='adam', metrics=['accuracy'])\n",
        "\n",
        "# Train the model\n",
        "model.fit(X, Y, epochs=200, verbose=1)"
      ]
    },
    {
      "cell_type": "code",
      "execution_count": 15,
      "id": "00f936dd-06f2-4aea-a5f0-327fa3a7dec3",
      "metadata": {
        "id": "00f936dd-06f2-4aea-a5f0-327fa3a7dec3"
      },
      "outputs": [],
      "source": [
        "# Get the word embeddings\n",
        "embeddings = model.get_weights()[0]\n",
        "\n",
        "# Perform PCA to reduce the dimensionality of the embeddings\n",
        "pca = PCA(n_components=2)\n",
        "reduced_embeddings = pca.fit_transform(embeddings)"
      ]
    },
    {
      "cell_type": "markdown",
      "id": "6d1ab058-dc6c-4187-a904-f7331c376779",
      "metadata": {
        "id": "6d1ab058-dc6c-4187-a904-f7331c376779"
      },
      "source": [
        "#### d. Output"
      ]
    },
    {
      "cell_type": "code",
      "execution_count": 16,
      "id": "7f908298-5229-4a70-8abe-895e27ae35ec",
      "metadata": {
        "colab": {
          "base_uri": "https://localhost:8080/",
          "height": 599
        },
        "id": "7f908298-5229-4a70-8abe-895e27ae35ec",
        "outputId": "82240e3b-1389-4c42-e0e6-b1b27d90fa33"
      },
      "outputs": [
        {
          "output_type": "display_data",
          "data": {
            "text/plain": [
              "<Figure size 700x700 with 1 Axes>"
            ],
            "image/png": "[encoded data removed]"
          },
          "metadata": {}
        }
      ],
      "source": [
        "# Visualize the embeddings\n",
        "plt.figure(figsize=(7, 7))\n",
        "for i, word in enumerate(tokenizer.word_index.keys()):\n",
        "    x, y = reduced_embeddings[i]\n",
        "    plt.scatter(x, y)\n",
        "    plt.annotate(word, xy=(x, y), xytext=(5, 2),\n",
        "                 textcoords='offset points',\n",
        "                 ha='right', va='bottom')\n",
        "plt.show()"
      ]
    },
    {
      "cell_type": "code",
      "execution_count": 17,
      "id": "f5869e8c-a2b4-409b-a0d2-35971f63a8d8",
      "metadata": {
        "id": "f5869e8c-a2b4-409b-a0d2-35971f63a8d8"
      },
      "outputs": [],
      "source": [
        "# test model\n",
        "test_sentenses = [\n",
        "    \"we are to study\",\n",
        "    \"create programs direct processes\",\n",
        "    \"spirits process study program\",\n",
        "    \"idea study people create\"\n",
        "]"
      ]
    },
    {
      "cell_type": "code",
      "execution_count": 18,
      "id": "b0948436-5e59-49ae-8c9b-c65d5fd1f2d9",
      "metadata": {
        "colab": {
          "base_uri": "https://localhost:8080/"
        },
        "id": "b0948436-5e59-49ae-8c9b-c65d5fd1f2d9",
        "outputId": "ac6accbe-72a9-4e45-dad0-98faac758cb1"
      },
      "outputs": [
        {
          "output_type": "stream",
          "name": "stdout",
          "text": [
            "Words:  ['we', 'are', 'to', 'study']\n",
            "Indexs:  [[ 4  5  6 12]]\n",
            "1/1 [==============================] - 0s 108ms/step\n",
            "Predictons:  ['we', 'are', 'to', 'study']  =>  about\n",
            "\n",
            "\n",
            "Words:  ['create', 'programs', 'direct', 'processes']\n",
            "Indexs:  [[33 34 35  3]]\n",
            "1/1 [==============================] - 0s 25ms/step\n",
            "Predictons:  ['create', 'programs', 'direct', 'processes']  =>  to\n",
            "\n",
            "\n",
            "Words:  ['spirits', 'process', 'study', 'program']\n",
            "Indexs:  [[39  8 12 31]]\n",
            "1/1 [==============================] - 0s 20ms/step\n",
            "Predictons:  ['spirits', 'process', 'study', 'program']  =>  the\n",
            "\n",
            "\n",
            "Words:  ['idea', 'study', 'people', 'create']\n",
            "Indexs:  [[13 12 32 33]]\n",
            "1/1 [==============================] - 0s 24ms/step\n",
            "Predictons:  ['idea', 'study', 'people', 'create']  =>  programs\n",
            "\n",
            "\n"
          ]
        }
      ],
      "source": [
        "for test_sentense in test_sentenses:\n",
        "    test_words = test_sentense.split(\" \")\n",
        "    print(\"Words: \", test_words)\n",
        "    x_test = []\n",
        "    for i in test_words:\n",
        "        x_test.append(word_to_index_map.get(i))\n",
        "    x_test = np.array([x_test])\n",
        "    print(\"Indexs: \", x_test)\n",
        "    test_predictions = model.predict(x_test)\n",
        "    y_pred = np.argmax(test_predictions[0])\n",
        "    print(\"Predictons: \",test_words, \" => \", index_to_word_map.get(y_pred))\n",
        "    print(\"\\n\")"
      ]
    }
  ],
  "metadata": {
    "kernelspec": {
      "display_name": "Python 3 (ipykernel)",
      "language": "python",
      "name": "python3"
    },
    "language_info": {
      "codemirror_mode": {
        "name": "ipython",
        "version": 3
      },
      "file_extension": ".py",
      "mimetype": "text/x-python",
      "name": "python",
      "nbconvert_exporter": "python",
      "pygments_lexer": "ipython3",
      "version": "3.11.0rc1"
    },
    "colab": {
      "provenance": []
    }
  },
  "nbformat": 4,
  "nbformat_minor": 5
}